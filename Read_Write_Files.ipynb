{
 "cells": [
  {
   "cell_type": "code",
   "execution_count": 1,
   "id": "c5770d36",
   "metadata": {},
   "outputs": [
    {
     "data": {
      "text/plain": [
       "WindowsPath('C:/Users/mayur')"
      ]
     },
     "execution_count": 1,
     "metadata": {},
     "output_type": "execute_result"
    }
   ],
   "source": [
    "#1. What is a relative path relative to?\n",
    "#--> Relative Path belongs to current working directory\n",
    "\n",
    "from pathlib import Path\n",
    "import os\n",
    "\n",
    "Path.cwd()\n"
   ]
  },
  {
   "cell_type": "code",
   "execution_count": 4,
   "id": "8c87313a",
   "metadata": {},
   "outputs": [
    {
     "data": {
      "text/plain": [
       "'C:\\\\Users\\\\mayur'"
      ]
     },
     "execution_count": 4,
     "metadata": {},
     "output_type": "execute_result"
    }
   ],
   "source": [
    "#2. What does an absolute path start with?\n",
    "# -->Absolute path belongs to root directory.\n",
    "os.path.abspath('.')\n"
   ]
  },
  {
   "cell_type": "code",
   "execution_count": 5,
   "id": "dffc0abd",
   "metadata": {},
   "outputs": [
    {
     "data": {
      "text/plain": [
       "WindowsPath('C:/Users/mayur')"
      ]
     },
     "execution_count": 5,
     "metadata": {},
     "output_type": "execute_result"
    }
   ],
   "source": [
    "#3. What does Path('C:/Users') / 'Al' evaluate to on Windows?\n",
    "# -->Path('C:/Users')--it belongs to home directory and in that 'AL' is subdirectory.\n",
    "\n",
    "from pathlib import Path\n",
    "\n",
    "Path('C:/Users')/'mayur'\n",
    "\n"
   ]
  },
  {
   "cell_type": "code",
   "execution_count": 7,
   "id": "becce380",
   "metadata": {},
   "outputs": [
    {
     "ename": "TypeError",
     "evalue": "unsupported operand type(s) for /: 'str' and 'str'",
     "output_type": "error",
     "traceback": [
      "\u001b[1;31m---------------------------------------------------------------------------\u001b[0m",
      "\u001b[1;31mTypeError\u001b[0m                                 Traceback (most recent call last)",
      "Input \u001b[1;32mIn [7]\u001b[0m, in \u001b[0;36m<cell line: 4>\u001b[1;34m()\u001b[0m\n\u001b[0;32m      1\u001b[0m \u001b[38;5;66;03m#4. What does 'C:/Users' / 'Al' evaluate to on Windows?\u001b[39;00m\n\u001b[0;32m      2\u001b[0m \u001b[38;5;66;03m# --> It will throws the error \u001b[39;00m\n\u001b[1;32m----> 4\u001b[0m \u001b[38;5;124;43m'\u001b[39;49m\u001b[38;5;124;43mC:/Users\u001b[39;49m\u001b[38;5;124;43m'\u001b[39;49m\u001b[43m \u001b[49m\u001b[38;5;241;43m/\u001b[39;49m\u001b[43m \u001b[49m\u001b[38;5;124;43m'\u001b[39;49m\u001b[38;5;124;43mmayur\u001b[39;49m\u001b[38;5;124;43m'\u001b[39;49m\n",
      "\u001b[1;31mTypeError\u001b[0m: unsupported operand type(s) for /: 'str' and 'str'"
     ]
    }
   ],
   "source": [
    "#4. What does 'C:/Users' / 'Al' evaluate to on Windows?\n",
    "# --> It will throws the error :\n",
    "\n",
    "'C:/Users' / 'mayur'"
   ]
  },
  {
   "cell_type": "code",
   "execution_count": 14,
   "id": "f64f6889",
   "metadata": {},
   "outputs": [
    {
     "data": {
      "text/plain": [
       "WindowsPath('C:/D Drive/New folder')"
      ]
     },
     "execution_count": 14,
     "metadata": {},
     "output_type": "execute_result"
    }
   ],
   "source": [
    "#5. What do the os.getcwd() and os.chdir() functions do?\n",
    "# os.getcwd() will give the current working directory and os.chdir it changes the directory to some other whichever we want to use.\n",
    "\n",
    "p=Path('C:/Users/mayur/oct2.txt')\n",
    "os.getcwd()\n",
    "\n",
    "os.chdir(r'C:\\D Drive\\New folder')\n",
    "Path.cwd()"
   ]
  },
  {
   "cell_type": "code",
   "execution_count": 26,
   "id": "4cfa9b6b",
   "metadata": {},
   "outputs": [
    {
     "data": {
      "text/plain": [
       "True"
      ]
     },
     "execution_count": 26,
     "metadata": {},
     "output_type": "execute_result"
    }
   ],
   "source": [
    "#6. What are the . and .. folders? \n",
    "#--> '.' belongs to current diectory and '..' belongs to parent directory.\n",
    "from pathlib import Path\n",
    "import os\n",
    "os.makedirs('C:\\\\users\\\\mayur\\\\oct22')\n",
    "Path.cwd().is_absolute()\n"
   ]
  },
  {
   "cell_type": "code",
   "execution_count": 22,
   "id": "061043a4",
   "metadata": {},
   "outputs": [],
   "source": [
    "Path(r'C:\\\\users\\\\mayur\\\\oct22\\\\new_folder').mkdir()"
   ]
  },
  {
   "cell_type": "code",
   "execution_count": 24,
   "id": "05c9b3b7",
   "metadata": {},
   "outputs": [],
   "source": [
    "os.chdir('C:\\\\users\\\\mayur\\\\oct22')"
   ]
  },
  {
   "cell_type": "code",
   "execution_count": 41,
   "id": "91968257",
   "metadata": {},
   "outputs": [
    {
     "name": "stdout",
     "output_type": "stream",
     "text": [
      "C:\\users\n"
     ]
    },
    {
     "data": {
      "text/plain": [
       "False"
      ]
     },
     "execution_count": 41,
     "metadata": {},
     "output_type": "execute_result"
    }
   ],
   "source": [
    "p=Path('C:\\\\users\\\\mayur\\\\oct22\\\\newfile.txt')\n",
    "# os.path.isabs('.')\n",
    "# os.path.isabs('..')\n",
    "\n",
    "os.chdir('C:\\\\users')\n",
    "print(Path.cwd())\n",
    "os.path.isabs('..')"
   ]
  },
  {
   "cell_type": "code",
   "execution_count": 45,
   "id": "dd63fcb0",
   "metadata": {},
   "outputs": [
    {
     "name": "stdout",
     "output_type": "stream",
     "text": [
      "C:\\users\\mayur\\oct22\n",
      "newfile.txt\n"
     ]
    }
   ],
   "source": [
    "# 7. In C:\\bacon\\eggs\\spam.txt, which part is the dir name, and which part is the base name?\n",
    "print(os.path.dirname(p))\n",
    "print(os.path.basename(p))"
   ]
  },
  {
   "cell_type": "code",
   "execution_count": 60,
   "id": "08ea2241",
   "metadata": {},
   "outputs": [
    {
     "name": "stdout",
     "output_type": "stream",
     "text": [
      "HelloHey,How are you\n"
     ]
    }
   ],
   "source": [
    "#8. What are the three “mode” arguments that can be passed to the open() function?\n",
    "\n",
    "# -->read,write,append these are three mode agguments that can be passed to open()function\n",
    "\n",
    "file1=open('C:/Users/mayur/oct2.txt', 'r')\n",
    "file1.read()\n",
    "\n",
    "file2=open('C:/Users/mayur/oct2_2.txt', 'w')\n",
    "file2.write('Hello')\n",
    "\n",
    "file3=open('C:/Users/mayur/oct2_2.txt', 'a')\n",
    "file3.write('Hey,How are you')\n",
    "\n",
    "file4=open('C:/Users/mayur/oct2_2.txt', 'r')\n",
    "print(file4.read())"
   ]
  },
  {
   "cell_type": "code",
   "execution_count": 61,
   "id": "00114f28",
   "metadata": {},
   "outputs": [
    {
     "name": "stdout",
     "output_type": "stream",
     "text": [
      "Welcome\n"
     ]
    }
   ],
   "source": [
    "#9. What happens if an existing file is opened in write mode?\n",
    "# if an existing file is opened in write mode then it will overwrite the data.\n",
    "\n",
    "\n",
    "file4=open('C:/Users/mayur/oct2_2.txt','w')\n",
    "file4.write('Welcome')\n",
    "\n",
    "file4=open('C:/Users/mayur/oct2_2.txt','r')\n",
    "print(file4.read())"
   ]
  },
  {
   "cell_type": "code",
   "execution_count": 64,
   "id": "534c0684",
   "metadata": {},
   "outputs": [
    {
     "name": "stdout",
     "output_type": "stream",
     "text": [
      "Welcome\n",
      "[\"When, in disgrace with fortune and men's eyes,\\n\", 'I all alone beweep my outcast state,\\n', 'And trouble deaf heaven with my bootless cries,\\n', 'And look upon myself and curse my fate']\n"
     ]
    }
   ],
   "source": [
    "#10. What is the difference between the read() and readlines() methods?\n",
    "#-->read() is used to read single string whereas readlines() is used to read list of string.\n",
    "\n",
    "file5=open('C:/Users/mayur/oct2_3.txt','w')\n",
    "file5.write('Welcome')\n",
    "\n",
    "file5=open('C:/Users/mayur/oct2_3.txt','r')\n",
    "print(file5.read())\n",
    "\n",
    "file6=open('C:/Users/mayur/oct2_4.txt','w')\n",
    "file6.write(\"\"\"When, in disgrace with fortune and men's eyes,\n",
    "I all alone beweep my outcast state,\n",
    "And trouble deaf heaven with my bootless cries,\n",
    "And look upon myself and curse my fate\"\"\")\n",
    "file6=open('C:/Users/mayur/oct2_4.txt','r')\n",
    "print(file6.readlines())"
   ]
  },
  {
   "cell_type": "code",
   "execution_count": null,
   "id": "a191c512",
   "metadata": {},
   "outputs": [],
   "source": [
    "#11. What data structure does a shelf value resemble?"
   ]
  },
  {
   "cell_type": "code",
   "execution_count": null,
   "id": "6c42440e",
   "metadata": {},
   "outputs": [],
   "source": []
  },
  {
   "cell_type": "code",
   "execution_count": null,
   "id": "081d94dd",
   "metadata": {},
   "outputs": [],
   "source": []
  }
 ],
 "metadata": {
  "kernelspec": {
   "display_name": "Python 3 (ipykernel)",
   "language": "python",
   "name": "python3"
  },
  "language_info": {
   "codemirror_mode": {
    "name": "ipython",
    "version": 3
   },
   "file_extension": ".py",
   "mimetype": "text/x-python",
   "name": "python",
   "nbconvert_exporter": "python",
   "pygments_lexer": "ipython3",
   "version": "3.9.7"
  }
 },
 "nbformat": 4,
 "nbformat_minor": 5
}
