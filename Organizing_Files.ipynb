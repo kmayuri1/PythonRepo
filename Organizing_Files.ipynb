{
 "cells": [
  {
   "cell_type": "code",
   "execution_count": null,
   "id": "d73d800b",
   "metadata": {},
   "outputs": [],
   "source": [
    "#1. What is the difference between shutil.copy() and shutil.copytree()?\n",
    "\n",
    "-->shutil.copy() copy the data of perticular file which we want to get copied whereas shutil.copytree() will copy the whole directory and each\n",
    "subdirectory and filesa alog with that folder gets copied."
   ]
  },
  {
   "cell_type": "code",
   "execution_count": null,
   "id": "76b9a7a7",
   "metadata": {},
   "outputs": [],
   "source": [
    "#2. What function is used to rename files?\n",
    "\n",
    "-->shutil.move() function is used to rename a file."
   ]
  },
  {
   "cell_type": "code",
   "execution_count": null,
   "id": "60481994",
   "metadata": {},
   "outputs": [],
   "source": [
    "#3. What is the difference between the delete functions in the send2trash and shutil modules?\n",
    "\n",
    "-->delete function in send2trash will not remove file permanantly,its stored in trash/bin if required we can reuse it whereas in shutil module file/folder gets deleted permanentlt."
   ]
  },
  {
   "cell_type": "code",
   "execution_count": null,
   "id": "5d3fd6ba",
   "metadata": {},
   "outputs": [],
   "source": [
    "#4. ZipFile objects have a close() method just like File objects’ close() method. What ZipFile method is equivalent to File objects’ open() method?\n",
    "\n",
    "Yes its similar to file object."
   ]
  },
  {
   "cell_type": "code",
   "execution_count": null,
   "id": "a8180aa2",
   "metadata": {},
   "outputs": [],
   "source": []
  },
  {
   "cell_type": "code",
   "execution_count": null,
   "id": "4232c9ee",
   "metadata": {},
   "outputs": [],
   "source": []
  }
 ],
 "metadata": {
  "kernelspec": {
   "display_name": "Python 3 (ipykernel)",
   "language": "python",
   "name": "python3"
  },
  "language_info": {
   "codemirror_mode": {
    "name": "ipython",
    "version": 3
   },
   "file_extension": ".py",
   "mimetype": "text/x-python",
   "name": "python",
   "nbconvert_exporter": "python",
   "pygments_lexer": "ipython3",
   "version": "3.9.7"
  }
 },
 "nbformat": 4,
 "nbformat_minor": 5
}
