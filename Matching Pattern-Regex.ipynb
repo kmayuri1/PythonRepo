{
 "cells": [
  {
   "cell_type": "code",
   "execution_count": 4,
   "id": "b153fd1b",
   "metadata": {},
   "outputs": [
    {
     "data": {
      "text/plain": [
       "'Hey Hi am mr.X,Nice to meet you..Hi'"
      ]
     },
     "execution_count": 4,
     "metadata": {},
     "output_type": "execute_result"
    }
   ],
   "source": [
    "#1. What is the function that creates Regex objects?\n",
    "\n",
    "import re\n",
    "\n",
    "reg=re.compile(r'Hello')\n",
    "reg.sub('Hi','Hey Hello am mr.X,Nice to meet you..Hello')"
   ]
  },
  {
   "cell_type": "code",
   "execution_count": null,
   "id": "37966b71",
   "metadata": {},
   "outputs": [],
   "source": [
    "#2. Why are raw strings often used when creating Regex objects?\n",
    "\n",
    "-->By using raw string it allows to escape whatever we required to escape and its easy to use.\n"
   ]
  },
  {
   "cell_type": "code",
   "execution_count": 9,
   "id": "59dd4091",
   "metadata": {},
   "outputs": [
    {
     "name": "stdout",
     "output_type": "stream",
     "text": [
      "My number is:111-23-11\n"
     ]
    }
   ],
   "source": [
    "#3. What does the search() method return?\n",
    "#--> Search() is used to match the string which we want to match.\n",
    "\n",
    "import re\n",
    "reg= re.compile(r'\\d\\d\\d-\\d\\d-\\d\\d')\n",
    "pattern=reg.search('Number is 111-23-11')\n",
    "print('My number is:'+ pattern.group())"
   ]
  },
  {
   "cell_type": "code",
   "execution_count": 10,
   "id": "13e2139a",
   "metadata": {},
   "outputs": [
    {
     "name": "stdout",
     "output_type": "stream",
     "text": [
      "My number is:111-23-11\n"
     ]
    }
   ],
   "source": [
    "#4. How do you get the actual strings that match the pattern from a Match object?\n",
    "import re\n",
    "reg= re.compile(r'\\d\\d\\d-\\d\\d-\\d\\d')\n",
    "pattern=reg.search('Number is 111-23-11')\n",
    "print('My number is:'+ pattern.group())"
   ]
  },
  {
   "cell_type": "code",
   "execution_count": 17,
   "id": "706509c8",
   "metadata": {},
   "outputs": [
    {
     "name": "stdout",
     "output_type": "stream",
     "text": [
      "123\n",
      "222-232\n",
      "123-222-232\n"
     ]
    }
   ],
   "source": [
    "#5. In the regex created from r'(\\d\\d\\d)-(\\d\\d\\d-\\d\\d\\d\\d)', what does group 0 cover? Group 1? Group 2?\n",
    "\n",
    "import re\n",
    "reg=re.compile(r'(\\d\\d\\d)-(\\d\\d\\d-\\d\\d\\d)')\n",
    "pt=reg.search('Number is 123-222-232')\n",
    "print(pt.group(1))\n",
    "print(pt.group(2))\n",
    "print(pt.group(0))"
   ]
  },
  {
   "cell_type": "code",
   "execution_count": 36,
   "id": "6b5dbcc2",
   "metadata": {},
   "outputs": [
    {
     "name": "stdout",
     "output_type": "stream",
     "text": [
      "Number with Parentheses(12)-@3\n"
     ]
    }
   ],
   "source": [
    "#6. Parentheses and periods have specific meanings in regular expression syntax. How would youspecify that you want a regex to match actual parentheses and period characters?\n",
    "\n",
    "import re\n",
    "reg=re.compile(r'\\(\\d\\d\\)-\\@\\d')\n",
    "pattern=reg.search('my number is (12)-@3')\n",
    "print('Number with Parentheses' + pattern.group())"
   ]
  },
  {
   "cell_type": "code",
   "execution_count": 25,
   "id": "11f8d69e",
   "metadata": {},
   "outputs": [
    {
     "name": "stdout",
     "output_type": "stream",
     "text": [
      "['12-1234']\n",
      "[('234', '1-22')]\n"
     ]
    }
   ],
   "source": [
    "#7. The findall() method returns a list of strings or a list of tuples of strings. What makes it return one or the other?\n",
    "#-->When we call regex with no group then findall returns list of strings and when called with group then it returns list of tuples of strings.\n",
    "import re\n",
    "reg=re.compile(r'\\d\\d-\\d\\d\\d\\d')\n",
    "pattern=reg.findall('12-1234')\n",
    "print(pattern)\n",
    "\n",
    "reg1=re.compile(r'(\\d\\d\\d)-(\\d-\\d\\d)')\n",
    "pattern1=reg1.findall('234-1-22')\n",
    "print(pattern1)"
   ]
  },
  {
   "cell_type": "code",
   "execution_count": 34,
   "id": "d3fd1dff",
   "metadata": {},
   "outputs": [
    {
     "name": "stdout",
     "output_type": "stream",
     "text": [
      "His\n"
     ]
    }
   ],
   "source": [
    "#8. What does the | character signify in regular expressions?\n",
    "#--> '|' character signifies \"or\" in regular expressions.\n",
    "\n",
    "import re\n",
    "regs=re.compile(r'His|Him')\n",
    "pattern=regs.search('I found a man and His name is abc')\n",
    "print(pattern.group())\n"
   ]
  },
  {
   "cell_type": "code",
   "execution_count": 46,
   "id": "9fa31b06",
   "metadata": {},
   "outputs": [
    {
     "data": {
      "text/plain": [
       "'BestActress'"
      ]
     },
     "execution_count": 46,
     "metadata": {},
     "output_type": "execute_result"
    }
   ],
   "source": [
    "#9. What two things does the ? character signify in regular expressions?\n",
    "\n",
    "#--> The ? character signify that it can be used for checking 'or' means if we want to match optinal pattern then ? character is used. \n",
    "\n",
    "import re\n",
    "# reg=re.compile(r'Bat(wo)?man')\n",
    "reg=re.compile(r'Best(Act)?ress')\n",
    "pattern=reg.search('The Adventures of BestActress')\n",
    "pattern.group()"
   ]
  },
  {
   "cell_type": "code",
   "execution_count": 50,
   "id": "3408bcbc",
   "metadata": {},
   "outputs": [
    {
     "name": "stdout",
     "output_type": "stream",
     "text": [
      "batman\n"
     ]
    },
    {
     "ename": "AttributeError",
     "evalue": "'NoneType' object has no attribute 'group'",
     "output_type": "error",
     "traceback": [
      "\u001b[1;31m---------------------------------------------------------------------------\u001b[0m",
      "\u001b[1;31mAttributeError\u001b[0m                            Traceback (most recent call last)",
      "Input \u001b[1;32mIn [50]\u001b[0m, in \u001b[0;36m<cell line: 11>\u001b[1;34m()\u001b[0m\n\u001b[0;32m      9\u001b[0m reg1\u001b[38;5;241m=\u001b[39mre\u001b[38;5;241m.\u001b[39mcompile(\u001b[38;5;124mr\u001b[39m\u001b[38;5;124m'\u001b[39m\u001b[38;5;124mbat(wo)+man\u001b[39m\u001b[38;5;124m'\u001b[39m)\n\u001b[0;32m     10\u001b[0m pattern1\u001b[38;5;241m=\u001b[39mreg1\u001b[38;5;241m.\u001b[39msearch(\u001b[38;5;124m'\u001b[39m\u001b[38;5;124mThe adventures of batman\u001b[39m\u001b[38;5;124m'\u001b[39m)\n\u001b[1;32m---> 11\u001b[0m \u001b[38;5;28mprint\u001b[39m(\u001b[43mpattern1\u001b[49m\u001b[38;5;241;43m.\u001b[39;49m\u001b[43mgroup\u001b[49m())\n",
      "\u001b[1;31mAttributeError\u001b[0m: 'NoneType' object has no attribute 'group'"
     ]
    }
   ],
   "source": [
    "#10. What is the difference between the + and * characters in regular expressions?\n",
    "\n",
    "#--> + character is used to match atleast one or more of the preceding group and * character matches zero or more of preceding group.\n",
    "\n",
    "reg=re.compile(r'bat(wo)*man')\n",
    "pattern=reg.search('The adventures of batman')\n",
    "print(pattern.group())\n",
    "\n",
    "reg1=re.compile(r'bat(wo)+man')\n",
    "pattern1=reg1.search('The adventures of batman')\n",
    "print(pattern1.group())"
   ]
  },
  {
   "cell_type": "code",
   "execution_count": 54,
   "id": "2411644f",
   "metadata": {},
   "outputs": [
    {
     "name": "stdout",
     "output_type": "stream",
     "text": [
      "AAAAAA\n",
      "PPPPPPPP\n"
     ]
    }
   ],
   "source": [
    "#11. What is the difference between {3} and {3,5} in regular expressions?\n",
    "#-->{3} means it takes values only 3 and {3,5} means it takes values between 3 and 5.\n",
    "\n",
    "import re\n",
    "reg=re.compile(r'(AA){3}')\n",
    "pattern=reg.search('AAAAAA')\n",
    "print(pattern.group())\n",
    "\n",
    "reg1=re.compile(r'(PP){3,5}')\n",
    "pattern1=reg1.search('PPPPPPPP')\n",
    "print(pattern1.group())"
   ]
  },
  {
   "cell_type": "code",
   "execution_count": 56,
   "id": "96d8e017",
   "metadata": {},
   "outputs": [
    {
     "data": {
      "text/plain": [
       "['12 drummers', '11 pipers', '10 lords']"
      ]
     },
     "execution_count": 56,
     "metadata": {},
     "output_type": "execute_result"
    }
   ],
   "source": [
    "#12. What do the \\d, \\w, and \\s shorthand character classes signify in regular expressions?\n",
    "#--> \\d --is used to match only digits\n",
    "#--> \\w --is used to match digits,letter and underscore.\n",
    "#--> \\s --is used to match spaces,tab and newline.\n",
    "import re\n",
    "reg = re.compile(r'\\d+\\s\\w+')\n",
    "reg.findall('12 drummers, 11 pipers, 10 lords')"
   ]
  },
  {
   "cell_type": "code",
   "execution_count": null,
   "id": "727badaf",
   "metadata": {},
   "outputs": [],
   "source": [
    "#13. What do the \\D, \\W, and \\S shorthand character classes signify in regular expressions?\n",
    "--> \\D --is used to match any character\n",
    "--> \\W --is used to match any character which is not a letter, numeric digit, or the underscore character.\n",
    "--> \\S --is used to match any character which is not a space, tab, or newline"
   ]
  },
  {
   "cell_type": "code",
   "execution_count": 62,
   "id": "c3fb134f",
   "metadata": {},
   "outputs": [
    {
     "name": "stdout",
     "output_type": "stream",
     "text": [
      " Sai\n"
     ]
    }
   ],
   "source": [
    "#14. What is the difference between .* and .*?\n",
    "\n",
    "# --> .* will match all the pattern while .*? will match min of pattern.\n",
    "\n",
    "reg=re.compile(r'Name:(.*) Lastname:(.*)')\n",
    "pattern=reg.search('Name: Sai Lastname: Ram')\n",
    "print(pattern.group(1))"
   ]
  },
  {
   "cell_type": "code",
   "execution_count": 63,
   "id": "fe6c49be",
   "metadata": {},
   "outputs": [
    {
     "name": "stdout",
     "output_type": "stream",
     "text": [
      "['c', 'd', 'f', 'g', '1', '2', '3', '4', 'c', 'd', 'c']\n"
     ]
    }
   ],
   "source": [
    "#15. What is the character class syntax to match all numbers and lowercase letters?\n",
    "\n",
    "# --> The character class syntax to match all numbers and lowercase letter:[0-9a-z]\n",
    "import re\n",
    "reg=re.compile(r'[0-9a-z]')\n",
    "pattern=reg.findall('ADcdfg1234cdcAA')\n",
    "print(pattern)\n",
    "    "
   ]
  },
  {
   "cell_type": "code",
   "execution_count": 64,
   "id": "73edcc3d",
   "metadata": {},
   "outputs": [
    {
     "data": {
      "text/plain": [
       "'HINA'"
      ]
     },
     "execution_count": 64,
     "metadata": {},
     "output_type": "execute_result"
    }
   ],
   "source": [
    "#16. How do you make a regular expression case-insensitive?\n",
    "# -->For making regular expression case-insensitive we can use re.IGNORECASE\n",
    "import re\n",
    "reg = re.compile(r'Hina', re.I)\n",
    "reg.search('HINA is good girl.').group()\n",
    "\n"
   ]
  },
  {
   "cell_type": "code",
   "execution_count": 65,
   "id": "193d1a83",
   "metadata": {},
   "outputs": [
    {
     "data": {
      "text/plain": [
       "['pot', 'bot']"
      ]
     },
     "execution_count": 65,
     "metadata": {},
     "output_type": "execute_result"
    }
   ],
   "source": [
    "#17. What does the . character normally match? What does it match if re.DOTALL is passed as the second argument to re.compile()?\n",
    "#-->The .character normally matches any character except new line whereas re.DOTALL matches any characters including newline as well.\n",
    "\n",
    "import re\n",
    "reg = re.compile(r'.ot')\n",
    "reg.findall('The pot in the bot sat on the flat.')\n"
   ]
  },
  {
   "cell_type": "code",
   "execution_count": 66,
   "id": "eeb6032f",
   "metadata": {},
   "outputs": [
    {
     "data": {
      "text/plain": [
       "'X drummers, X pipers, five rings, X hens'"
      ]
     },
     "execution_count": 66,
     "metadata": {},
     "output_type": "execute_result"
    }
   ],
   "source": [
    "#18. If numRegex = re.compile(r'\\d+'), what will numRegex.sub('X', '12 drummers, 11 pipers, five rings, 3 hens') return?\n",
    "\n",
    "# --> \\d is used to match digits,so wherever it found digits it replaces that with pattern.\n",
    "\n",
    "import re\n",
    "reg = re.compile(r'\\d+')\n",
    "reg.sub('X', '12 drummers, 11 pipers, five rings, 3 hens')\n"
   ]
  },
  {
   "cell_type": "code",
   "execution_count": null,
   "id": "73b66fcb",
   "metadata": {},
   "outputs": [],
   "source": [
    "#19. What does passing re.VERBOSE as the second argument to re.compile() allow you to do?\n",
    "--> to write regular expressions that look nicer and are more readable by allowing you to visually separate\n",
    "logical sections of the pattern and add comments."
   ]
  },
  {
   "cell_type": "code",
   "execution_count": null,
   "id": "9a330eb4",
   "metadata": {},
   "outputs": [],
   "source": [
    "#20. How would you write a regex that matches a number with commas for every three digits? It must match the following:\n",
    "\n",
    "'42'\n",
    "'1,234'\n",
    "'6,368,745'\n",
    "but not the following:\n",
    "\n",
    "'12,34,567' (which has only two digits between the commas)\n",
    "'1234' (which lacks commas)"
   ]
  },
  {
   "cell_type": "code",
   "execution_count": null,
   "id": "12d3cb07",
   "metadata": {},
   "outputs": [],
   "source": [
    "#21. How would you write a regex that matches the full name of someone whose last name is Watanabe? You can assume that the first name that comes before it will always be one word that begins with a capital letter. The regex must match the following:\n",
    "\n",
    "'Haruto Watanabe'\n",
    "'Alice Watanabe'\n",
    "'RoboCop Watanabe'\n",
    "but not the following:\n",
    "\n",
    "'haruto Watanabe' (where the first name is not capitalized)\n",
    "'Mr. Watanabe' (where the preceding word has a nonletter character)\n",
    "'Watanabe' (which has no first name)\n",
    "'Haruto watanabe' (where Watanabe is not capitalized)"
   ]
  },
  {
   "cell_type": "code",
   "execution_count": null,
   "id": "f289f3cb",
   "metadata": {},
   "outputs": [],
   "source": [
    "#22. How would you write a regex that matches a sentence where the first word is either Alice, Bob, or Carol; the second word is either eats, pets, or throws; the third word is apples, cats, or baseballs; and the sentence ends with a period? This regex should be case-insensitive. It must match the following:\n",
    "\n",
    "'Alice eats apples.'\n",
    "'Bob pets cats.'\n",
    "'Carol throws baseballs.'\n",
    "'Alice throws Apples.'\n",
    "'BOB EATS CATS.'\n",
    "but not the following:\n",
    "\n",
    "'RoboCop eats apples.'\n",
    "'ALICE THROWS FOOTBALLS.'\n",
    "'Carol eats 7 cats.'"
   ]
  }
 ],
 "metadata": {
  "kernelspec": {
   "display_name": "Python 3 (ipykernel)",
   "language": "python",
   "name": "python3"
  },
  "language_info": {
   "codemirror_mode": {
    "name": "ipython",
    "version": 3
   },
   "file_extension": ".py",
   "mimetype": "text/x-python",
   "name": "python",
   "nbconvert_exporter": "python",
   "pygments_lexer": "ipython3",
   "version": "3.9.7"
  }
 },
 "nbformat": 4,
 "nbformat_minor": 5
}
