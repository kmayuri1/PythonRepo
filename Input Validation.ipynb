{
 "cells": [
  {
   "cell_type": "code",
   "execution_count": null,
   "id": "e713d284",
   "metadata": {},
   "outputs": [],
   "source": [
    "1. Does PyInputPlus come with the Python Standard Library?\n",
    "\n",
    "--> No PyInputPlus is not comes with Python Standard Library.We have to install it."
   ]
  },
  {
   "cell_type": "code",
   "execution_count": null,
   "id": "797afa7c",
   "metadata": {},
   "outputs": [],
   "source": [
    "2. Why is PyInputPlus commonly imported with import pyinputplus as pyip?\n",
    "\n",
    "-->Its easy to access while calling the function."
   ]
  },
  {
   "cell_type": "code",
   "execution_count": null,
   "id": "2d942cd0",
   "metadata": {},
   "outputs": [],
   "source": [
    "# 3. What is the difference between inputInt() and inputFloat()?\n",
    "#InputInt will return only int value and if trying to give float value its shows error message.\n",
    "import pyinputplus as pyip\n",
    "rep=pyip.inputInt('Enter Number :')\n",
    "## Whereas inputFloat returns float value and if trying to give int value its took int value too.\n",
    "\n",
    "\n"
   ]
  },
  {
   "cell_type": "code",
   "execution_count": 12,
   "id": "7d67c500",
   "metadata": {},
   "outputs": [
    {
     "name": "stdout",
     "output_type": "stream",
     "text": [
      "Enter Number:3.2\n"
     ]
    }
   ],
   "source": [
    "import pyinputplus as pyip\n",
    "rep=pyip.inputFloat('Enter Number:')"
   ]
  },
  {
   "cell_type": "code",
   "execution_count": 17,
   "id": "b99c07b5",
   "metadata": {},
   "outputs": [
    {
     "name": "stdout",
     "output_type": "stream",
     "text": [
      "Enter number :100\n",
      "Number must be at maximum 99.\n",
      "Enter number :90\n"
     ]
    }
   ],
   "source": [
    "# 4.How can you ensure that the user enters a whole number between 0 and 99 using PyInputPlus?\n",
    "\n",
    "import pyinputplus as pyip\n",
    "res=pyip.inputNum('Enter number :',min=0,max=99)"
   ]
  },
  {
   "cell_type": "code",
   "execution_count": null,
   "id": "32f8f6ba",
   "metadata": {},
   "outputs": [],
   "source": [
    "# 5. What is passed to the allowRegexes and blockRegexes keyword arguments?\n",
    "\n",
    "#-->whatever we want to allow in input that we can give using allowRegex and whetever we want to block we can block using blockRegex.\n",
    "\n",
    "import pyinputplus as pyip\n",
    "\n",
    "res=pyip.inputNum(allowRegexes=[r'\\[\\d\\d\\d\\]'])\n",
    "\n",
    "res=pyip.inputNum(blockRegexes=[r'[12345]')\n"
   ]
  },
  {
   "cell_type": "code",
   "execution_count": 22,
   "id": "a798b7a2",
   "metadata": {},
   "outputs": [
    {
     "name": "stdout",
     "output_type": "stream",
     "text": [
      "\n",
      "Blank values are not allowed.\n",
      "\n",
      "Blank values are not allowed.\n",
      "\n",
      "Blank values are not allowed.\n"
     ]
    }
   ],
   "source": [
    "# 6. What does inputStr(limit=3) do if blank input is entered three times?\n",
    "#if we enter blank input 3 times then after three it throws Excepetion message.To avoid exception message we can give (Blank=N/A)\n",
    "\n",
    "import pyinputplus as pyip\n",
    "\n",
    "res=pyip.inputStr(limit=3)\n",
    "\n",
    "res=pyip.inputStr(limit=3,default='N/A')\n",
    "\n"
   ]
  },
  {
   "cell_type": "code",
   "execution_count": 23,
   "id": "15dd7d4e",
   "metadata": {},
   "outputs": [
    {
     "name": "stdout",
     "output_type": "stream",
     "text": [
      "\n",
      "Blank values are not allowed.\n",
      "\n",
      "Blank values are not allowed.\n",
      "\n",
      "Blank values are not allowed.\n"
     ]
    }
   ],
   "source": [
    "#7. What does inputStr(limit=3, default='hello') do if blank input is entered three times?\n",
    "\n",
    "#-->If we entered blank input 3 times by giving default='hello' ,after 3rd it will not print 'hello'.\n",
    "\n",
    "\n",
    "import pyinputplus as pyip\n",
    "res=pyip.inputStr(limit=3,default='hello')\n"
   ]
  },
  {
   "cell_type": "code",
   "execution_count": null,
   "id": "cd387f16",
   "metadata": {},
   "outputs": [],
   "source": []
  }
 ],
 "metadata": {
  "kernelspec": {
   "display_name": "Python 3 (ipykernel)",
   "language": "python",
   "name": "python3"
  },
  "language_info": {
   "codemirror_mode": {
    "name": "ipython",
    "version": 3
   },
   "file_extension": ".py",
   "mimetype": "text/x-python",
   "name": "python",
   "nbconvert_exporter": "python",
   "pygments_lexer": "ipython3",
   "version": "3.9.7"
  }
 },
 "nbformat": 4,
 "nbformat_minor": 5
}
